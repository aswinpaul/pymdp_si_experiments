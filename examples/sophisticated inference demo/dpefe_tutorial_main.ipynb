{
 "cells": [
  {
   "cell_type": "markdown",
   "id": "de63eb5d",
   "metadata": {},
   "source": [
    "# DPEFE Demo"
   ]
  },
  {
   "cell_type": "markdown",
   "id": "767fe2ca",
   "metadata": {},
   "source": [
    "## The grid problem\n",
    "\n",
    "An agent is trying to navigate to a 'goal-state' (red-dot) as optimaly as possible from a given 'start-state'. The agent is occupied with a predefined prior-preference-distribution, damped uniformly from the goal state outwards.\n",
    "\n",
    "<div>\n",
    "<img src=\"1.png\" width=\"500\"/>\n",
    "</div>\n",
    "\n",
    "Left: Grid task, Right: Predefined prior preference\n",
    "\n",
    "Ref: K. J. Friston et al., 2021."
   ]
  },
  {
   "cell_type": "markdown",
   "id": "1529f4b8",
   "metadata": {},
   "source": [
    "# Importing primary modules"
   ]
  },
  {
   "cell_type": "code",
   "execution_count": 1,
   "id": "ed9eb8c2",
   "metadata": {},
   "outputs": [],
   "source": [
    "# This is needed since pymdp as a module is in a different folder than this demo\n",
    "import os\n",
    "import time\n",
    "import sys\n",
    "from pathlib import Path\n",
    "\n",
    "path = Path(os.getcwd())\n",
    "module_path = str(path.parent.parent) + '/'\n",
    "sys.path.append(module_path)"
   ]
  },
  {
   "cell_type": "code",
   "execution_count": 2,
   "id": "cce7eb29",
   "metadata": {},
   "outputs": [],
   "source": [
    "import numpy as np\n",
    "import matplotlib.pyplot as plt"
   ]
  },
  {
   "cell_type": "code",
   "execution_count": 3,
   "id": "ad819e91",
   "metadata": {},
   "outputs": [],
   "source": [
    "# Custom pymdp module with SI agent\n",
    "import pymdp\n",
    "\n",
    "# Importing custom environment class\n",
    "from grid_env_si import grid_environment as Env"
   ]
  },
  {
   "cell_type": "markdown",
   "id": "89ca7b2d",
   "metadata": {},
   "source": [
    "# Grid environment"
   ]
  },
  {
   "cell_type": "code",
   "execution_count": 4,
   "id": "d758ab45",
   "metadata": {},
   "outputs": [
    {
     "data": {
      "image/png": "[encoded data removed]",
      "text/plain": [
       "<Figure size 350x350 with 1 Axes>"
      ]
     },
     "metadata": {},
     "output_type": "display_data"
    }
   ],
   "source": [
    "# Initialising the environment \n",
    "env = Env(epi_length_limit=8)\n",
    "\n",
    "# Taking a look at the grid\n",
    "env.render()"
   ]
  },
  {
   "cell_type": "markdown",
   "id": "579ab0e6",
   "metadata": {},
   "source": [
    "White Square: Agent, Yellow Square: Goal-state, Black: Accesible states, Blue: Inaccesible states"
   ]
  },
  {
   "cell_type": "markdown",
   "id": "482ad1b0",
   "metadata": {},
   "source": [
    "# Generative model for Sophisticated Inference Agent"
   ]
  },
  {
   "cell_type": "code",
   "execution_count": 5,
   "id": "c199d7ac",
   "metadata": {},
   "outputs": [],
   "source": [
    "# Generative model\n",
    "\n",
    "s1_size = 25\n",
    "s1_actions = ['N', 'S', 'E', 'W']\n",
    "\n",
    "o1_size = s1_size\n",
    "\n",
    "# Hidden states\n",
    "num_states = [s1_size]\n",
    "num_factors = len(num_states)\n",
    "\n",
    "# Controls\n",
    "num_controls = [len(s1_actions)]\n",
    "\n",
    "# Observations\n",
    "num_obs = [o1_size]\n",
    "num_modalities = len(num_obs)"
   ]
  },
  {
   "cell_type": "markdown",
   "id": "5a20614c",
   "metadata": {},
   "source": [
    "## Priors of POMDP"
   ]
  },
  {
   "cell_type": "markdown",
   "id": "44b013d9",
   "metadata": {},
   "source": [
    "### Likelihood matrix"
   ]
  },
  {
   "cell_type": "code",
   "execution_count": 6,
   "id": "9abac299",
   "metadata": {},
   "outputs": [
    {
     "name": "stdout",
     "output_type": "stream",
     "text": [
      "Dimentionality of A: (1,)\n",
      "Shape of A[0]: (25, 25)\n"
     ]
    }
   ],
   "source": [
    "# Inititalising a random A Matrix (Liklihood matrix)\n",
    "A = pymdp.utils.random_A_matrix(num_obs, num_states)\n",
    "print(\"Dimentionality of A:\", A.shape)\n",
    "print(\"Shape of A[0]:\", A[0].shape)"
   ]
  },
  {
   "cell_type": "code",
   "execution_count": 7,
   "id": "cd499ba5",
   "metadata": {},
   "outputs": [],
   "source": [
    "# A is an identity matrix since it is a fully observable environment\n",
    "A[0] = np.eye(s1_size)"
   ]
  },
  {
   "cell_type": "markdown",
   "id": "4db88ee0",
   "metadata": {},
   "source": [
    "### Transition matrix"
   ]
  },
  {
   "cell_type": "code",
   "execution_count": 8,
   "id": "7e704b12",
   "metadata": {},
   "outputs": [],
   "source": [
    "# B Matrix\n",
    "B = pymdp.utils.random_B_matrix(num_states, num_controls)\n",
    "B[0] = env.get_trueB()"
   ]
  },
  {
   "cell_type": "markdown",
   "id": "00ed2b32",
   "metadata": {},
   "source": [
    "### Prior preference (Predefined in K. J. Friston et al., 2021)\n",
    "\n",
    "Predefined prior preference:\n",
    "\n",
    "<div>\n",
    "<img src=\"2.png\" width=\"250\"/>\n",
    "</div>"
   ]
  },
  {
   "cell_type": "code",
   "execution_count": 9,
   "id": "d6db6323",
   "metadata": {},
   "outputs": [
    {
     "data": {
      "image/png": "[encoded data removed]",
      "text/plain": [
       "<Figure size 350x350 with 1 Axes>"
      ]
     },
     "metadata": {},
     "output_type": "display_data"
    }
   ],
   "source": [
    "# Building the prior_preference in grid\n",
    "\n",
    "c = np.zeros((8,8))\n",
    "X = 4\n",
    "Y = 4\n",
    "for i in range(64):\n",
    "    [x,y] = env.allstatestoc(i)\n",
    "    c[x][y] = -1*np.sqrt((x - X)**2 + (y - Y)**2)\n",
    "    \n",
    "# Taking a look at the structure of prior preference over the grid\n",
    "env.render_c_matrix(c = c)"
   ]
  },
  {
   "cell_type": "code",
   "execution_count": 10,
   "id": "a327d6aa",
   "metadata": {},
   "outputs": [],
   "source": [
    "# Saving the C matrix to object array in pymdp format for using\n",
    "C = pymdp.utils.obj_array_zeros(num_obs)\n",
    "\n",
    "for i in range(env.numS):\n",
    "    [x,y] = env.statestoc(i)\n",
    "    C[0][i] = c[x][y]"
   ]
  },
  {
   "cell_type": "code",
   "execution_count": 11,
   "id": "beb3e7b6",
   "metadata": {},
   "outputs": [],
   "source": [
    "# Prior over hidden states\n",
    "\n",
    "D = pymdp.utils.obj_array_uniform(num_states)"
   ]
  },
  {
   "cell_type": "markdown",
   "id": "9a3bd773",
   "metadata": {},
   "source": [
    "## Initializing the sophistiacated inference agent from agent_si.py"
   ]
  },
  {
   "cell_type": "code",
   "execution_count": 12,
   "id": "2e1e7557",
   "metadata": {},
   "outputs": [],
   "source": [
    "# Importing SI agent\n",
    "\n",
    "from pymdp.agent_dpefe import dpefe_agent"
   ]
  },
  {
   "cell_type": "code",
   "execution_count": 13,
   "id": "b3e392c6",
   "metadata": {},
   "outputs": [],
   "source": [
    "# Uncomment to see the documentation for SI agent class\n",
    "# help(pymdp.agent_si.si_agent)"
   ]
  },
  {
   "cell_type": "markdown",
   "id": "ea675c9a",
   "metadata": {},
   "source": [
    "# Results from K. J. Friston et al.,2021.\n",
    "\n",
    "<div>\n",
    "<img src=\"3.png\" width=\"750\"/>\n",
    "</div>"
   ]
  },
  {
   "cell_type": "markdown",
   "id": "8e6c8f79",
   "metadata": {},
   "source": [
    "## Planning horizon of 1"
   ]
  },
  {
   "cell_type": "code",
   "execution_count": 16,
   "id": "99af32da",
   "metadata": {},
   "outputs": [
    {
     "name": "stdout",
     "output_type": "stream",
     "text": [
      "[1.00000000e+000 2.17559989e-142 2.17559989e-142 2.17559989e-142]\n",
      "[1.58352903e-173 3.44512558e-315 1.00000000e+000 1.58352903e-173]\n",
      "[5.00000000e-001 9.60983254e-133 5.00000000e-001 1.52174488e-305]\n",
      "[3.22265466e-053 3.22265466e-053 1.00000000e+000 6.19383433e-185]\n",
      "[5.00000000e-01 5.00000000e-01 1.61132733e-53 1.61132733e-53]\n",
      "[5.00000000e-01 5.00000000e-01 1.61132733e-53 1.61132733e-53]\n",
      "[5.00000000e-01 5.00000000e-01 1.61132733e-53 1.61132733e-53]\n",
      "[5.00000000e-01 5.00000000e-01 1.61132733e-53 1.61132733e-53]\n",
      "[5.00000000e-01 5.00000000e-01 1.61132733e-53 1.61132733e-53]\n"
     ]
    },
    {
     "data": {
      "image/png": "[encoded data removed]",
      "text/plain": [
       "<Figure size 350x350 with 1 Axes>"
      ]
     },
     "metadata": {},
     "output_type": "display_data"
    },
    {
     "name": "stdout",
     "output_type": "stream",
     "text": [
      "N: 1 Time elapsed: 0.09357190132141113\n",
      "[1. 0. 0. 0.]\n",
      "[0. 0. 1. 0.]\n",
      "[5.00000000e-001 7.67868586e-194 5.00000000e-001 0.00000000e+000]\n",
      "[3.80975713e-092 3.80975713e-092 1.00000000e+000 5.85078564e-285]\n",
      "[5.00000000e-01 5.00000000e-01 2.43664545e-92 1.90487857e-92]\n",
      "[5.00000000e-01 5.00000000e-01 2.43664545e-92 1.90487857e-92]\n",
      "[5.00000000e-01 5.00000000e-01 2.43664545e-92 1.90487857e-92]\n",
      "[5.00000000e-01 5.00000000e-01 2.43664545e-92 1.90487857e-92]\n",
      "[5.00000000e-01 5.00000000e-01 2.43664545e-92 1.90487857e-92]\n"
     ]
    },
    {
     "data": {
      "image/png": "[encoded data removed]",
      "text/plain": [
       "<Figure size 350x350 with 1 Axes>"
      ]
     },
     "metadata": {},
     "output_type": "display_data"
    },
    {
     "name": "stdout",
     "output_type": "stream",
     "text": [
      "N: 4 Time elapsed: 0.21963858604431152\n",
      "[1. 0. 0. 0.]\n",
      "[0. 0. 1. 0.]\n",
      "[1.00000000e+000 1.11377235e-205 1.66428233e-011 0.00000000e+000]\n",
      "[1.00000000e+000 0.00000000e+000 1.61388191e-166 1.61388191e-166]\n",
      "[1. 0. 0. 0.]\n",
      "[0. 0. 1. 0.]\n",
      "[0. 0. 1. 0.]\n",
      "[0. 1. 0. 0.]\n"
     ]
    },
    {
     "data": {
      "image/png": "[encoded data removed]",
      "text/plain": [
       "<Figure size 350x350 with 1 Axes>"
      ]
     },
     "metadata": {},
     "output_type": "display_data"
    },
    {
     "name": "stdout",
     "output_type": "stream",
     "text": [
      "N: 5 Time elapsed: 0.25673699378967285\n"
     ]
    }
   ],
   "source": [
    "for planning_depth in [1,4,5]:\n",
    "\n",
    "    N = planning_depth\n",
    "\n",
    "    start_time = time.time()\n",
    "\n",
    "    # Inititalising the agent\n",
    "    agent = dpefe_agent(A = A, \n",
    "                     B = B, \n",
    "                     C = C, \n",
    "                     D = D, \n",
    "                     planning_horizon = N, \n",
    "                     action_precision = 512, \n",
    "                     planning_precision = 1)\n",
    "\n",
    "    # planning with tree search to set-up E.F.E i.e. G[numA, numS]\n",
    "    # agent.plan_tree_search()\n",
    "\n",
    "    # length of episode\n",
    "    # episode_length = 8\n",
    "\n",
    "    # Resetting the grid-environment for trial\n",
    "    obs, info = env.reset(seed=42)\n",
    "\n",
    "    # trial\n",
    "    done = False\n",
    "    tau = 0\n",
    "    while(done==False):\n",
    "        #env.render(animation_save = True, N = planning_depth, tau = tau)\n",
    "        #env.render()\n",
    "\n",
    "        # agent-step\n",
    "        action = agent.step([obs])\n",
    "        print(agent.q_pi)\n",
    "\n",
    "        # Env-step\n",
    "        obs, reward, terminated, truncated, info = env.step(int(action[0]))\n",
    "        tau += 1\n",
    "        # Checking for succesful episode\n",
    "        if terminated or truncated:\n",
    "            done = True\n",
    "\n",
    "    # Talking a look at the environment\n",
    "    # env.render(animation_save = True, N = planning_depth, tau = tau)\n",
    "    env.render()\n",
    "\n",
    "    print(\"N:\",planning_depth, \"Time elapsed:\", time.time() - start_time)"
   ]
  },
  {
   "cell_type": "markdown",
   "id": "3a47d672",
   "metadata": {},
   "source": [
    "## Note on action probabilites for planning horizons\n",
    "\n",
    "It should be noted that for lower planning horizons (i.e. N=1, N=2, and N=3), agents might end up reaching the goal-state by chance. Only for the planning horizon N=4, the agent can ensure navigation to goal-state with 100% accuracy. This can be verified by inspecting action probabilities at states during journey by inspecting agent.action_probability at every state."
   ]
  },
  {
   "cell_type": "markdown",
   "id": "e82ac157",
   "metadata": {},
   "source": [
    "## Typical behaviour of agent for planning depth N = 1, 3, and 4\n",
    "\n",
    "<div>\n",
    "<img src=\"animation_N_1.gif\" width=\"250\"/>\n",
    "<img src=\"animation_N_2.gif\" width=\"250\"/>\n",
    "<img src=\"animation_N_3.gif\" width=\"250\"/>\n",
    "</div>"
   ]
  },
  {
   "cell_type": "markdown",
   "id": "a7cc7978",
   "metadata": {},
   "source": [
    "# Effect of search threshold in planning"
   ]
  },
  {
   "cell_type": "code",
   "execution_count": 19,
   "id": "2436b68c",
   "metadata": {},
   "outputs": [
    {
     "name": "stdout",
     "output_type": "stream",
     "text": [
      "N:  1\n",
      "N: 1 Time elapsed: 0.012936592102050781\n",
      "N:  3\n",
      "N: 3 Time elapsed: 0.015479326248168945\n",
      "N:  4\n",
      "N: 4 Time elapsed: 0.021290302276611328\n"
     ]
    }
   ],
   "source": [
    "for planning_depth in [1,3,4]:\n",
    "    \n",
    "    print(\"N: \", planning_depth)\n",
    "    N = planning_depth\n",
    "\n",
    "    start_time = time.time()\n",
    "\n",
    "    # Inititalising the agent\n",
    "    agent = dpefe_agent(A = A,\n",
    "                     B = B,\n",
    "                     C = C,\n",
    "                     planning_horizon = N,\n",
    "                     planning_precision = 1, \n",
    "                     action_precision = 1024)\n",
    "\n",
    "    # planning with tree search to measure the computational time\n",
    "    agent.plan_using_dynprog()\n",
    "    \n",
    "    print(\"N:\",planning_depth, \"Time elapsed:\", time.time() - start_time)"
   ]
  },
  {
   "cell_type": "markdown",
   "id": "3c0ead45",
   "metadata": {},
   "source": [
    "When compared to the time elapsed for planning during the demo, we see that setting a search threshold of 1/16, reduced the computational time to 0.23 seconds, from ~300 seconds (N=4 case) when search threshold is zero (i.e. full tree search). \n",
    "\n",
    "Also, we can observe that computational time scales exponentially with N when full tree search is implemented. Hence, sophisticated inference becomes computationally intractable without the pruning of tree search using the search_threshold parameter."
   ]
  }
 ],
 "metadata": {
  "kernelspec": {
   "display_name": "Python 3 (ipykernel)",
   "language": "python",
   "name": "python3"
  },
  "language_info": {
   "codemirror_mode": {
    "name": "ipython",
    "version": 3
   },
   "file_extension": ".py",
   "mimetype": "text/x-python",
   "name": "python",
   "nbconvert_exporter": "python",
   "pygments_lexer": "ipython3",
   "version": "3.9.17"
  }
 },
 "nbformat": 4,
 "nbformat_minor": 5
}
